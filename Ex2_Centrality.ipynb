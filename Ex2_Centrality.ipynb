{
 "cells": [
  {
   "cell_type": "markdown",
   "metadata": {},
   "source": [
    "# Social Computing/Social Gaming - Summer 2021\n",
    "\n",
    "# Exercise Sheet 2: A comparison of Centrality Measures\n",
    "Centrality is a key concept in social network analysis. It measures the importance or influence of a certain node/edge in a network. The interpretation of importance or influence, however, depends on the type of centrality and the application. Different types of centrality were discussed in the lecture: degree centrality, closeness centrality, betweenness centrality and eigenvector centrality.<br>\n",
    "In this exercise, you are going to implement different centrality algorithms using the NetworkX library which you already know from last exercise. Please consult the [reference](https://networkx.github.io/documentation/stable/reference/index.html) [1] and the [tutorial](https://networkx.github.io/documentation/stable/tutorial.html) [2]."
   ]
  },
  {
   "cell_type": "code",
   "execution_count": 1,
   "metadata": {},
   "outputs": [],
   "source": [
    "# import the libraries\n",
    "import networkx as nx, pandas as pd, matplotlib.pyplot as plt"
   ]
  },
  {
   "cell_type": "markdown",
   "metadata": {},
   "source": [
    "## Task 2.1: The Krackhardt Kite Graph\n",
    "We will use the Krackhardt Kite for the first exercise. The Krackhardt Kite is a simply connected, unweighted, and undirected graph. [This figure](https://en.wikipedia.org/wiki/Krackhardt_kite_graph#/media/File:Krackhard_kite.PNG) [3] illustrates the Krackhardt Kite.\n",
    "\n",
    "**Calculate and print the degree centrality of the Krackhardt Kite graph - just a list of ten values, one for each node. You can use the pre-defined function of the NetworkX library.**\n",
    "\n",
    "**Optional:** Look at the graph and the list with the degree centrality values. Can you identify which node has which degree centrality?<br>\n",
    "**Optional:** Calculate the closeness and betweeness centrality as well using the library. What information do they give us compared to degree centrality?"
   ]
  },
  {
   "cell_type": "code",
   "execution_count": 2,
   "metadata": {
    "pycharm": {
     "is_executing": true
    },
    "scrolled": true
   },
   "outputs": [
    {
     "name": "stdout",
     "output_type": "stream",
     "text": [
      "{0: 0.4444444444444444, 1: 0.4444444444444444, 2: 0.3333333333333333, 3: 0.6666666666666666, 4: 0.3333333333333333, 5: 0.5555555555555556, 6: 0.5555555555555556, 7: 0.3333333333333333, 8: 0.2222222222222222, 9: 0.1111111111111111}\n",
      "{0: 0.5294117647058824, 1: 0.5294117647058824, 2: 0.5, 3: 0.6, 4: 0.5, 5: 0.6428571428571429, 6: 0.6428571428571429, 7: 0.6, 8: 0.42857142857142855, 9: 0.3103448275862069}\n",
      "{0: 0.023148148148148143, 1: 0.023148148148148143, 2: 0.0, 3: 0.10185185185185183, 4: 0.0, 5: 0.23148148148148148, 6: 0.23148148148148148, 7: 0.38888888888888884, 8: 0.2222222222222222, 9: 0.0}\n"
     ]
    },
    {
     "data": {
      "image/png": "[encoded data removed]",
      "text/plain": [
       "<Figure size 432x288 with 1 Axes>"
      ]
     },
     "metadata": {},
     "output_type": "display_data"
    }
   ],
   "source": [
    "# Importing the graph (connected, unweighted, undirected social network)\n",
    "krackhardt_kite = nx.krackhardt_kite_graph()\n",
    "\n",
    "# Formatting the graph\n",
    "nodeColor = \"red\"\n",
    "nodeSize = 400\n",
    "pos = nx.spring_layout(krackhardt_kite)\n",
    "\n",
    "# TODO: Calculate and print the Kite's degree centrality\n",
    "print(nx.degree_centrality(krackhardt_kite))\n",
    "\n",
    "# Optional: Calculate the closeness centrality\n",
    "print(nx.closeness_centrality(krackhardt_kite))\n",
    "\n",
    "# Optional: Calculate the betweeness centrality\n",
    "\n",
    "print(nx.betweenness_centrality(krackhardt_kite))\n",
    "\n",
    "# TODO: Plot the graph\n",
    "nx.draw_networkx(krackhardt_kite,pos=nx.spring_layout(krackhardt_kite))\n",
    "plt.show()"
   ]
  },
  {
   "cell_type": "markdown",
   "metadata": {},
   "source": [
    "## Task 2.2: Betweenness Centrality\n",
    "\n",
    "(shortest Path) Betweenness Centrality measures centrality based on shortest paths. For every pair of vertices in a graph, there exists a shortest path between the vertices such that either the number of edges that the path passes through (for undirected graphs) or the sum of the weights of the edges (for directed graphs) is minimized.<br>\n",
    "Vertices with high betweenness may have considerable influence within a network by virtue of their control over information passing between others.\n",
    "\n",
    "**a)**\n",
    "**Write a Python program that computes the betweeness centrality for each node for the given university social network.** The output should be a list where each item contains the value of the betweenness centrality of a node. You are **not allowed** to use the pre-defined function `betweenness_centrality()` from NetworkX , but you can look up its [documentation](https://networkx.org/documentation/networkx-1.10/reference/generated/networkx.algorithms.centrality.betweenness_centrality.html) [4] for help or use it for comparison.\n",
    "\n",
    "**Notes:**\n",
    "* The program only have to implement the undirected graph version (without edge weights)\n",
    "* Look up the mathematical expression in the documentation\n",
    "* Normalize your centrality values\n",
    "* You are allowed to use pre-defined functions from NetworkX for determining (shortest) paths"
   ]
  },
  {
   "cell_type": "code",
   "execution_count": 3,
   "metadata": {},
   "outputs": [
    {
     "name": "stdout",
     "output_type": "stream",
     "text": [
      "0.023 0.023\n",
      "0.023 0.023\n",
      "0.000 0.000\n",
      "0.102 0.102\n",
      "0.000 0.000\n",
      "0.231 0.231\n",
      "0.231 0.231\n",
      "0.389 0.389\n",
      "0.222 0.222\n",
      "0.000 0.000\n"
     ]
    }
   ],
   "source": [
    "# TODO: Calculate and print the betweenness centrality\n",
    "def betweenness_centrality(g, normalized=True):\n",
    "    #calculate a list with all shortest pahts:\n",
    "\n",
    "    centrality =dict()\n",
    "    #for each node calculate:\n",
    "    for node in g.nodes:\n",
    "        node_centrality =0\n",
    "        #for all pairs of nodes calculate\n",
    "        for source in g.nodes:\n",
    "            for target in g.nodes:\n",
    "                \n",
    "                shortest_paths_list = [p for p in nx.all_shortest_paths(g,source,target)]\n",
    "\n",
    "                \n",
    "                number_shortest_paths = len(shortest_paths_list)\n",
    "                if source == target:\n",
    "                    number_shortest_paths=1\n",
    "\n",
    "                #print(number_shortest_paths)\n",
    "\n",
    "                #calculate number of shortest paths that contain a node\n",
    "                number_shortest_paths_with_node = len([p for p in shortest_paths_list if node in p])\n",
    "                if source == node or target == node:\n",
    "                    number_shortest_paths_with_node =0\n",
    "                \n",
    "                #calculate centrality for pair\n",
    "                node_centrality += (number_shortest_paths_with_node/number_shortest_paths)\n",
    "        \n",
    "        #normalization\n",
    "        if normalized:\n",
    "            n= len(g.nodes)\n",
    "            node_centrality = node_centrality*2/((n-1)*(n-2))\n",
    "        \n",
    "        # we do calculate all pairs twice so we have to acount for that \n",
    "        node_centrality/=2\n",
    "            \n",
    "        \n",
    "        centrality[node] =node_centrality\n",
    "\n",
    "    return centrality\n",
    "\n",
    "# Calculate and print betweenness centrality\n",
    "bc = betweenness_centrality(krackhardt_kite)\n",
    "nx_bc = nx.betweenness_centrality(krackhardt_kite)\n",
    "for key in nx_bc.keys():\n",
    "    print(\"%.3f %.3f\" %(bc[key], nx_bc[key]))"
   ]
  },
  {
   "cell_type": "markdown",
   "metadata": {},
   "source": [
    "Now you have implemented Betweenness Centrality, copy your solution and try to change your code in the following way:\n",
    "\n",
    "\n",
    "**b)**\n",
    "**Write a Python program that computes the Epsilon-Betweeness-Centrality for each node for the given social network. Definition of Epsilon-Betweeness-Centrality: if a path is longer by $\\epsilon$ than the shortest path, it is still considered a valid path for the computation of the betweenness centrality of a node**\n",
    "\n",
    "**Notes:**\n",
    "* All notes from above still apply\n",
    "* This time only shortest paths are not sufficient to compute the centrality, maybe NetworkX can help you once more?\n",
    "* Consider only $\\epsilon$-longer paths that do not contain the same node more than once"
   ]
  },
  {
   "cell_type": "code",
   "execution_count": 19,
   "metadata": {},
   "outputs": [
    {
     "name": "stdout",
     "output_type": "stream",
     "text": [
      "BC Personal | NX BC |BC Epsilon Personal\n",
      "0.023 0.023 0.117\n",
      "0.023 0.023 0.117\n",
      "0.000 0.000 0.063\n",
      "0.102 0.102 0.324\n",
      "0.000 0.000 0.063\n",
      "0.231 0.231 0.372\n",
      "0.231 0.231 0.372\n",
      "0.389 0.389 0.408\n",
      "0.222 0.222 0.222\n",
      "0.000 0.000 0.000\n",
      "BC Epsilon Values only\n",
      "0.117\n",
      "0.117\n",
      "0.063\n",
      "0.324\n",
      "0.063\n",
      "0.372\n",
      "0.372\n",
      "0.408\n",
      "0.222\n",
      "0.000\n"
     ]
    }
   ],
   "source": [
    "# TODO: Calculate and print the betweenness centrality with epsilon\n",
    "# Hint: You can use your code from above and modify it accordingly\n",
    "def betweenness_centrality_epsilon(g, epsilon,normalized=True):\n",
    "\n",
    "\n",
    "    centrality =dict()\n",
    "    #for each node calculate:\n",
    "    for node in g.nodes:\n",
    "        node_centrality =0\n",
    "        #for all pairs of nodes calculate\n",
    "        for source in g.nodes:\n",
    "            for target in g.nodes:\n",
    "                # we shall not consider paths where nodes occure multiple times --> source!=target and only simple paths\n",
    "                \n",
    "                \n",
    "                \n",
    "                length_shortest_path =nx.shortest_path_length(g,source,target)    \n",
    "                epsilon_paths_list =[p for p in nx.all_simple_paths(g,source,target,(length_shortest_path+epsilon))]\n",
    "                \n",
    "                number_shortest_paths = len(epsilon_paths_list)\n",
    "                if source == target:\n",
    "                    number_shortest_paths=1\n",
    "\n",
    "\n",
    "                number_shortest_paths_with_node = len([p for p in epsilon_paths_list if node in p])\n",
    "                if source == node or target == node:\n",
    "                    number_shortest_paths_with_node =0\n",
    "                    \n",
    "\n",
    "\n",
    "                #calculate centrality for pair\n",
    "                node_centrality += (number_shortest_paths_with_node/number_shortest_paths)\n",
    "        \n",
    "        #normalization\n",
    "        if normalized:\n",
    "            n= len(g.nodes)\n",
    "            node_centrality = node_centrality*2/((n-1)*(n-2))\n",
    "        \n",
    "        # we do calculate all pairs twice so we have to acount for that \n",
    "        node_centrality/=2\n",
    "            \n",
    "        \n",
    "        centrality[node] =node_centrality\n",
    "\n",
    "    return centrality\n",
    "\n",
    "\n",
    "\n",
    "# Calculate and print betweenness centrality\n",
    "epsilon =1\n",
    "bc_epsilon = betweenness_centrality_epsilon(krackhardt_kite, epsilon)\n",
    "bc = betweenness_centrality(krackhardt_kite)\n",
    "nx_bc = nx.betweenness_centrality(krackhardt_kite)\n",
    "print(\"BC Personal | NX BC |BC Epsilon Personal\")\n",
    "\n",
    "\n",
    "for key in nx_bc.keys():\n",
    "    print(\"%.3f %.3f %.3f\" %(bc[key], nx_bc[key],bc_epsilon[key]))\n",
    "\n",
    "print(\"BC Epsilon Values only\")\n",
    "for val in bc_epsilon.values():\n",
    "    print(\"%.3f\" %(val))"
   ]
  },
  {
   "cell_type": "markdown",
   "metadata": {},
   "source": [
    "**c)** Compare your different results from a) and b). Pick 2 nodes and explain why their values differ. What advantages and disadvantages does one approach have over the other?"
   ]
  },
  {
   "cell_type": "markdown",
   "metadata": {},
   "source": [
    "**TODO: Describe your observations in 3-5 sentences**\n",
    "- Node 2 increased its score from 0  (Epsilon 0/standard Betweenes centrality) to 0.063 (Epsilon 1). This is because before Node2 was not lying on any shortest path. Now as a small detour is accepted it may lie on a path.\n",
    "- Node 7 has a relatively small increase from 0.389(Epsilon 0 ) to 0.408 (epsilon 1) of delta=0,019 as most of the paths it lies in, are already shortest paths. An detour increase of 1 does, therefore, not have much impact anymore.\n",
    "\n",
    "- Both approaches allows to identify nodes that are most centered within the flow of a network. However, for the epsilon 0 approach this means that nodes connecting two clusters within a network are particularly higher ranked than all other nodes. In turn the epsilon >1 approach gives more weight to nodes that lie on several paths, that however, migh not be the shortest ones.\n"
   ]
  },
  {
   "cell_type": "markdown",
   "metadata": {},
   "source": [
    "## Task 2.3: PageRank\n",
    "\n",
    "This task is about **PageRank centrality**. It is a feedback-centrality named after Larry Page, who together with Sergei Brin founded Google. The PageRank algorithm was used in Google's search engine to rank the pages for the search result. Since 2013, PageRank was superseded by the Hummingbird algorithm although PageRank remains one of many ingredients in the Hummingbird algorithm. Its basic idea is that a node is more central the more central its neighbors are. In order to understand PageRank, the concept of a random walk is required.\n",
    "\n",
    "The **random walk** model describes a user surfing the web, starting at a web page and randomly following one of its hyperlinks to other web pages. If there is no link to other pages, the surfer jumps to a random web page.\n",
    "\n",
    "The PageRank measures a stationary distribution of a specific kind of random walk that starts from a random vertex, jumps to a random vertex with a predefined probability $1-d$, and with a probability $d$ follows a random outgoing edge of the current vertex."
   ]
  },
  {
   "cell_type": "markdown",
   "metadata": {},
   "source": [
    "**a)** First create a graph and test out the pre-defined NetworkX PageRank function.\n",
    "\n",
    "**1. Create** a graph using ``erdos_renyi_graph`` function of NetworkX."
   ]
  },
  {
   "cell_type": "code",
   "execution_count": 5,
   "metadata": {},
   "outputs": [
    {
     "data": {
      "image/png": "[encoded data removed]",
      "text/plain": [
       "<Figure size 432x288 with 1 Axes>"
      ]
     },
     "metadata": {},
     "output_type": "display_data"
    }
   ],
   "source": [
    "# TODO: Create a graph using Erdos_Renyi with the following parameters\n",
    "n = 20\n",
    "p = 0.07\n",
    "directed = True\n",
    "\n",
    "simple_graph = nx.erdos_renyi_graph(n,p, directed=directed)\n",
    "\n",
    "# Formatting the graph\n",
    "node_color = \"#FF5733\"\n",
    "edge_colors= \"#000000\"\n",
    "node_size = 500\n",
    "\n",
    "pos = nx.spring_layout(simple_graph, k=0.7, iterations=20)\n",
    "\n",
    "nx.draw(simple_graph, pos=pos, node_color=node_color, node_size=node_size, edgecolors=edge_colors, with_labels=True)"
   ]
  },
  {
   "cell_type": "markdown",
   "metadata": {},
   "source": [
    "**2.** **Calculate the PageRank** values of our `simple_graph`, using the built-in function of NetworkX.\n",
    "\n",
    "**3. Print** the first 15 elements of the PageRank."
   ]
  },
  {
   "cell_type": "code",
   "execution_count": 6,
   "metadata": {},
   "outputs": [
    {
     "name": "stdout",
     "output_type": "stream",
     "text": [
      "{0: 0.049046272273112285, 1: 0.017610866499365534, 2: 0.0400647255393708, 3: 0.02509548617936729, 4: 0.21225143930964033, 5: 0.032580105859369046, 6: 0.017610866499365534, 7: 0.032580105859369046, 8: 0.20177441134909133, 9: 0.03894203414624023, 10: 0.02135317633936641, 11: 0.08125821719589757, 12: 0.05166589071998259, 13: 0.06751145678093427, 14: 0.017610866499365534, 15: 0.017610866499365534, 16: 0.017610866499365534, 17: 0.022600612952700036, 18: 0.017610866499365534, 19: 0.017610866499365534}\n"
     ]
    }
   ],
   "source": [
    "# use this values for the built-in function\n",
    "ITERATIONS = 100\n",
    "DAMPING = 0.85\n",
    "\n",
    "\n",
    "# TODO: calculate PageRank\n",
    "rank = nx.pagerank(simple_graph,alpha=DAMPING,max_iter=ITERATIONS)\n",
    "\n",
    "# TODO: print the results\n",
    "print(rank)"
   ]
  },
  {
   "cell_type": "markdown",
   "metadata": {},
   "source": [
    "**b)** Create a simple PageRank function using **Jacobi power iteration**, which you can find in the lecture slides. To avoid matrix inversion we use an iterative formula for the PageRank algorithm:\n",
    "\n",
    "$$c_i^{(k+1)} = d \\cdot \\sum_{j} P_{ij}c_{j}^{(k)} + \\frac{(1 - d)}{N}$$\n",
    "\n",
    "where the superscript k denotes the iteration index, d the damping, N the number of nodes in our graph (which is left out in the lecture notes and also in the original papers, but is used in the built-in PageRank calculation algorithm of NetworkX).\n",
    "\n",
    "**1.** Your first task is to **implement a function** which calculates the transition matrix element $P_{ij}$.\n",
    "\n",
    "**Note:** If the out-degree of a node is 0, the user should make a \"random jump\""
   ]
  },
  {
   "cell_type": "code",
   "execution_count": 7,
   "metadata": {},
   "outputs": [],
   "source": [
    "# TODO: calculate the transition matrix element P_ij of a node j to a node i.\n",
    "def pij(g, i, j):\n",
    "    '''\n",
    "    calculate transition matrix element \n",
    "    between node i and node j of graph g \n",
    "    '''\n",
    "    #if j,i in edges return 1/out_degree(j)\n",
    "    \n",
    "    if (j,i) in simple_graph.edges:\n",
    "        return 1/len(simple_graph.out_edges(j))\n",
    "    elif len(simple_graph.out_edges(j)) == 0:\n",
    "            return 1/len(g)\n",
    "    else:\n",
    "        return 0\n",
    "    \n",
    "    "
   ]
  },
  {
   "cell_type": "markdown",
   "metadata": {},
   "source": [
    "**2.** The second task is to **normalize** a list, so that `sum(list) = 1.0` after every iteration in the Jacobi power iteration algorithm."
   ]
  },
  {
   "cell_type": "code",
   "execution_count": 8,
   "metadata": {},
   "outputs": [],
   "source": [
    "# TODO: renormalize after every step\n",
    "def renormalize(pagerank_list):\n",
    "    '''\n",
    "    input arbitrary float number list\n",
    "    return a list where of all elements (sum(list)) equals 1.0\n",
    "    '''\n",
    "    return [elem/sum(pagerank_list) for elem in pagerank_list]\n"
   ]
  },
  {
   "cell_type": "markdown",
   "metadata": {},
   "source": [
    "**3.** The third and last task is to **implement the PageRank** calculation using Jacobi power iteration yourself. **Print** the first 15 elements and make sure you have the same result as in task ***a)***.\n",
    "\n",
    "**Note:**\n",
    "- `summe_j` is the term $\\sum_j P_{ij}c_{j}^{k}$ in the formula"
   ]
  },
  {
   "cell_type": "code",
   "execution_count": 9,
   "metadata": {},
   "outputs": [
    {
     "name": "stdout",
     "output_type": "stream",
     "text": [
      "0.049046 0.049046\n",
      "0.017611 0.017611\n",
      "0.040065 0.040065\n",
      "0.025095 0.025095\n",
      "0.212251 0.212256\n",
      "0.032580 0.032580\n",
      "0.017611 0.017611\n",
      "0.032580 0.032580\n",
      "0.201774 0.201771\n",
      "0.038942 0.038942\n",
      "0.021353 0.021353\n",
      "0.081258 0.081258\n",
      "0.051666 0.051666\n",
      "0.067511 0.067511\n",
      "0.017611 0.017611\n"
     ]
    }
   ],
   "source": [
    "def calcPageRank(g, d, numIter=30):\n",
    "    '''\n",
    "    calculate the PageRank of a given graph g, with damping d, \n",
    "    number of iterations numIter using jacobi power iteration\n",
    "    return a list with pageranks.\n",
    "    '''\n",
    "    # first initialize our pagerank centrality list c \n",
    "    # with 1/N for each element\n",
    "    c = [1/len(g) for elem in g]\n",
    "    \n",
    "    for iteration in range(0, numIter):\n",
    "        \n",
    "        c_previous = c.copy() \n",
    "\n",
    "        for i in g.nodes:\n",
    "            summe_j = 0.0\n",
    "            \n",
    "            for j in g.nodes: # for neighbors of i\n",
    "                # calculate the sum term\n",
    "                summe_j += pij(g,i,j)*c_previous[j]\n",
    "            \n",
    "            # calculate the centrality for the index i\n",
    "            # using the complete formula   \n",
    "\n",
    "            c[i] = d*summe_j+(1-d)/len(g)            \n",
    "        # renormalize pageranks after every iteration\n",
    "        c = renormalize(c)\n",
    "            \n",
    "    return c\n",
    "\n",
    "my_pagerank_list = calcPageRank(simple_graph, DAMPING, ITERATIONS)\n",
    "pagerank_dict = nx.pagerank(simple_graph, alpha=DAMPING, max_iter=ITERATIONS)\n",
    "\n",
    "for key in range(0,15):\n",
    "    print(\"%.6f %.6f\" %( pagerank_dict[key], my_pagerank_list[key]))"
   ]
  },
  {
   "cell_type": "markdown",
   "metadata": {},
   "source": [
    "**c) Personalized PageRank**\n",
    "\n",
    "Now that you have calculated the PageRank centrality you will enhance the PageRank calculation to the Personalized PageRank. \n",
    "\n",
    "Personalized PageRank is a modification of the PageRank algorithm. It is basically the same but biased to a personalized set of the starting vertices, a so-called `personalization` or preferences vector of the user.\n",
    "\n",
    "Instead of jumping to a random vertex with probability $d$, the walker jumps to a random vertex from the set of the starting vertices. By varying the damping factor $d$ the algorithm can be adjusted either towards the structure of the network itself, by using a close to 1 value of $d$, or towards the personal preferences by making $d$ smaller. Personalized PageRank can be used for personalized recommendations."
   ]
  },
  {
   "cell_type": "markdown",
   "metadata": {},
   "source": [
    "**Copy and modify the ``calcPageRank()`` function, in order to include personal preferences. You have to modify the starting vector and the formula slightly. In addition to that `pij()` must be corrected for the personal jump too, define `pij_pers()` in order for your personalized PageRank to work!**"
   ]
  },
  {
   "cell_type": "code",
   "execution_count": 10,
   "metadata": {},
   "outputs": [],
   "source": [
    "# TODO calculate the transition matrix element P_ij of a node j to a node i.\n",
    "def pij_pers(g, i, j, c_start):\n",
    "    '''\n",
    "    calculate transition matrix element \n",
    "    between node i and node j of graph g \n",
    "    '''\n",
    "    if (j,i) in simple_graph.edges:\n",
    "        return 1/len(simple_graph.out_edges(j))\n",
    "    elif len(simple_graph.out_edges(j)) == 0:\n",
    "        return c_start[i]\n",
    "    else:\n",
    "        return 0\n",
    "    \n",
    "    "
   ]
  },
  {
   "cell_type": "code",
   "execution_count": 11,
   "metadata": {},
   "outputs": [
    {
     "name": "stdout",
     "output_type": "stream",
     "text": [
      "0.050610 0.050610\n",
      "0.000000 0.000000\n",
      "0.070049 0.070049\n",
      "0.070049 0.070049\n",
      "0.252432 0.252428\n",
      "0.059541 0.059541\n",
      "0.070049 0.070049\n",
      "0.000000 0.000000\n",
      "0.214559 0.214563\n",
      "0.059541 0.059541\n",
      "0.000000 0.000000\n",
      "0.068324 0.068324\n",
      "0.059541 0.059541\n",
      "0.025305 0.025305\n",
      "0.000000 0.000000\n"
     ]
    }
   ],
   "source": [
    "def personalizedPageRank(g, d, personalization, numIter=30):\n",
    "    '''\n",
    "    calculate the personalized pagerank of a given graph g, with damping d, \n",
    "    number of iterations numIter using jacobi power iteration\n",
    "    return a list with pageranks.\n",
    "    \n",
    "    personalization is the personalization dictionary of nodes, with \n",
    "    the probability 1, if node is personal preference of a user, \n",
    "    0, if not. E.g. {0:1, 1:1, 2:0, 3:1, 4:0, 5:0}, for prefered pages 1 and 3.\n",
    "    '''\n",
    "    # first initialise our PageRank centrality list c \n",
    "    # with 1/\"number of non zero entries in personalization dictionary\" \n",
    "    # for each prefered page\n",
    "    # Note: the initial centrality list c_start is also needed for your pij_pers() function\n",
    "    personalized_prop =1/sum(personalization.values())\n",
    "    \n",
    "    c = [0 if elem not in personalization.keys() or personalization[elem]==0 else personalized_prop for elem in g]\n",
    "\n",
    "    c_start =c.copy()\n",
    "    for iteration in range(0, numIter):\n",
    "        \n",
    "        c_previous = c.copy() \n",
    "\n",
    "        for i in g.nodes:\n",
    "            summe_j = 0.0\n",
    "            \n",
    "            for j in g.nodes: # for neighbors of i\n",
    "                # calculate the sum term\n",
    "                summe_j += pij_pers(g,i,j,c_start)*c_previous[j]\n",
    "            \n",
    "            # calculate the centrality for the index i\n",
    "            # using the complete formula   \n",
    "\n",
    "            c[i] = d*summe_j+(1-d)*c_start[i]         \n",
    "        # renormalize pageranks after every iteration\n",
    "        c = renormalize(c)\n",
    "            \n",
    "    return c\n",
    "\n",
    "    \n",
    "personalization_vector = {1:0, 2:1, 3:1, 4:1, 5:0, 6:1}\n",
    "#personalization_vector = {0:1,1:1,2:1,3:1}\n",
    "\n",
    "my_personalized_pagerank = personalizedPageRank(simple_graph, DAMPING, personalization_vector, ITERATIONS)\n",
    "personalized_pagerank = nx.pagerank(simple_graph, alpha=DAMPING,personalization=personalization_vector,  max_iter=ITERATIONS)\n",
    "\n",
    "for key in range(0,15):\n",
    "    print(\"%.6f %.6f\" %( personalized_pagerank[key], my_personalized_pagerank[key]))"
   ]
  },
  {
   "cell_type": "markdown",
   "metadata": {},
   "source": [
    "**d)** Describe in 3-4 sentences what happens if you modify the starting vector or the damping factor? How does it influence your recommendation?"
   ]
  },
  {
   "cell_type": "markdown",
   "metadata": {},
   "source": [
    "**TODO: Describe your observations in 3-4 sentences**\n",
    "\n",
    "- Changing the starting vector one can see that\n",
    "    - preferred values receive a higher rank \n",
    "    - while not preferred receive most of the time lower values, a increase for not preferred nodes is still possible. Such latter case is probably resulting from a linkage from a preferred node.\n",
    "  \n",
    "\n",
    "- Changing the dampening factor one can observe the above described behavior: \n",
    "    - Lower dampening factors mean, that not preferred nodes have very very low ranks (in the extremum with dampening 0, the rank is equally distributed only between the preferred nodes) \n",
    "    - while a High dampening factor results in still little better ranks for the preffered nodes but the rank appears to be mostly influenced by network dynamics.\n"
   ]
  },
  {
   "cell_type": "markdown",
   "metadata": {},
   "source": [
    "## References\n",
    "\n",
    "[1] https://networkx.github.io/documentation/stable/reference/index.html\n",
    "<br>[2] https://networkx.github.io/documentation/stable/tutorial.html\n",
    "<br>[3] https://en.wikipedia.org/wiki/Krackhardt_kite_graph#/media/File:Krackhard_kite.PNG\n",
    "<br>[4] https://networkx.org/documentation/networkx-1.10/reference/generated/networkx.algorithms.centrality.betweenness_centrality.html"
   ]
  }
 ],
 "metadata": {
  "anaconda-cloud": {},
  "kernelspec": {
   "display_name": "Python 3",
   "language": "python",
   "name": "python3"
  },
  "language_info": {
   "codemirror_mode": {
    "name": "ipython",
    "version": 3
   },
   "file_extension": ".py",
   "mimetype": "text/x-python",
   "name": "python",
   "nbconvert_exporter": "python",
   "pygments_lexer": "ipython3",
   "version": "3.8.10"
  }
 },
 "nbformat": 4,
 "nbformat_minor": 1
}